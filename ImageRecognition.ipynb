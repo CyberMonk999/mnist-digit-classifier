{
  "nbformat": 4,
  "nbformat_minor": 0,
  "metadata": {
    "colab": {
      "provenance": [],
      "authorship_tag": "ABX9TyMLxoKv/uDE5+lpnVaKFmEF",
      "include_colab_link": true
    },
    "kernelspec": {
      "name": "python3",
      "display_name": "Python 3"
    },
    "language_info": {
      "name": "python"
    }
  },
  "cells": [
    {
      "cell_type": "markdown",
      "metadata": {
        "id": "view-in-github",
        "colab_type": "text"
      },
      "source": [
        "<a href=\"https://colab.research.google.com/github/CyberMonk999/mnist-digit-classifier/blob/main/ImageRecognition.ipynb\" target=\"_parent\"><img src=\"https://colab.research.google.com/assets/colab-badge.svg\" alt=\"Open In Colab\"/></a>"
      ]
    },
    {
      "cell_type": "markdown",
      "source": [
        "# Number recognition using neural nets"
      ],
      "metadata": {
        "id": "YDU9v0IFeSYb"
      }
    },
    {
      "cell_type": "markdown",
      "source": [
        "The dataset we are using here is MNIST, which is a well-known dataset consisting of handwritten digits from 0 to 9, commonly used to train image classification models. Each image in the dataset is 28 by 28 pixels in size, presented in grayscale format (meaning it has only one channel rather than the three channels of an RGB image) and is labeled with the corresponding digit it represents.\n",
        "\n",
        "Essentially, each data point consists of a 28x28 grid of pixel intensity values paired with a label indicating the digit, such as 5. MNIST dataset is small and fast to train on. Additionally, it is easy to visualize and works effectively with both dense (fully connected) and convolutional neural networks."
      ],
      "metadata": {
        "id": "4gOuQlLXease"
      }
    },
    {
      "cell_type": "markdown",
      "source": [
        "1.At first we start by loading the dataset from Keras library."
      ],
      "metadata": {
        "id": "q5_S_60TfZCd"
      }
    },
    {
      "cell_type": "code",
      "source": [
        "from tensorflow.keras.datasets import mnist"
      ],
      "metadata": {
        "id": "0MFpNPFofplj"
      },
      "execution_count": 1,
      "outputs": []
    },
    {
      "cell_type": "markdown",
      "source": [
        "2.We do from tensorflow.keras.models import Sequential to bring in the Sequential model class from Keras, which lets us build neural networks layer by layer in order. It provides a simple way to stack layers one after another for most common neural nets. Using Sequential makes creating and managing the model easier and more organized."
      ],
      "metadata": {
        "id": "gjPQyBhngaSb"
      }
    },
    {
      "cell_type": "code",
      "source": [
        "from tensorflow.keras.models import Sequential"
      ],
      "metadata": {
        "id": "32UhnZbjgNGb"
      },
      "execution_count": 2,
      "outputs": []
    },
    {
      "cell_type": "markdown",
      "source": [
        "3.We use `from tensorflow.keras.layers import Dense, Flatten` to import two important types of layers for our neural network. **Dense** layers are the basic building blocks where every neuron connects to all neurons in the previous layer, useful for learning patterns. **Flatten** converts multi-dimensional input (like images) into a one-dimensional array so Dense layers can process it.\n"
      ],
      "metadata": {
        "id": "-G42hIN6glP9"
      }
    },
    {
      "cell_type": "code",
      "source": [
        "from tensorflow.keras.layers import Dense, Flatten"
      ],
      "metadata": {
        "id": "G8uQ2S-ggllm"
      },
      "execution_count": 3,
      "outputs": []
    },
    {
      "cell_type": "markdown",
      "source": [
        "## TEST TRAIN SPLIT"
      ],
      "metadata": {
        "id": "9TpIcgFMhEji"
      }
    },
    {
      "cell_type": "markdown",
      "source": [
        "4.The MNIST dataset of handwritten digit is now split into training sets (`x_train`, `y_train`) and testing sets (`x_test`, `y_test`). The training data is used to teach the model, while the testing data checks how well the model learned.\n"
      ],
      "metadata": {
        "id": "vgq-PLFbhLbI"
      }
    },
    {
      "cell_type": "code",
      "source": [
        "(x_train, y_train), (x_test, y_test) = mnist.load_data()\n"
      ],
      "metadata": {
        "colab": {
          "base_uri": "https://localhost:8080/"
        },
        "id": "pqEQIjJthIcP",
        "outputId": "d7e45ddd-2ad9-4ecf-ee72-93103af4c028"
      },
      "execution_count": 4,
      "outputs": [
        {
          "output_type": "stream",
          "name": "stdout",
          "text": [
            "Downloading data from https://storage.googleapis.com/tensorflow/tf-keras-datasets/mnist.npz\n",
            "\u001b[1m11490434/11490434\u001b[0m \u001b[32m━━━━━━━━━━━━━━━━━━━━\u001b[0m\u001b[37m\u001b[0m \u001b[1m0s\u001b[0m 0us/step\n"
          ]
        }
      ]
    },
    {
      "cell_type": "markdown",
      "source": [
        "5. Normalizing\n",
        "This step normalizes the pixel values of the images by dividing them by 255. Since pixel values range from 0 to 255, this scales them down to a range between 0 and 1. Neural networks learn better and faster when input values are small and within a consistent range.\n"
      ],
      "metadata": {
        "id": "y9YxecH1h9MH"
      }
    },
    {
      "cell_type": "code",
      "source": [
        "x_train = x_train / 255.0\n",
        "x_test = x_test / 255.0\n"
      ],
      "metadata": {
        "id": "LHwVd-CQh-4C"
      },
      "execution_count": 5,
      "outputs": []
    },
    {
      "cell_type": "markdown",
      "source": [
        "6.Neural Net design: After normalizing the images, we build the model that will learn to recognize the digits. First, we tell the model that each image will be a 1D array of 784 numbers (because 28×28 = 784 pixels). Then we stack layers: Flatten() ensures the input is in the right shape (even though it's already flat here), Dense(128, activation='relu') adds 128 \"thinking units\" (neurons) that learn patterns in the image, and Dense(10, activation='softmax') creates the output layer with 10 options — one for each digit (0–9). This setup allows the model to learn from the image data and make predictions about what digit is shown.\n",
        "\n",
        "\n",
        "\n",
        "\n",
        "\n",
        "\n",
        "\n",
        "\n"
      ],
      "metadata": {
        "id": "jyqiXK8KiJmR"
      }
    },
    {
      "cell_type": "code",
      "source": [
        "from tensorflow.keras.layers import Input\n",
        "\n",
        "model = Sequential([\n",
        "    Input(shape=(784,)),            # Define input shape here explicitly\n",
        "                    # Now Flatten doesn’t need input_shape\n",
        "    Dense(128, activation='relu'),\n",
        "    Dense(10, activation='softmax')\n",
        "])\n"
      ],
      "metadata": {
        "id": "LFSizLt8if77"
      },
      "execution_count": 12,
      "outputs": []
    },
    {
      "cell_type": "markdown",
      "source": [
        "7.Now that you’ve built the neural net, it’s time to bring in a smart coach to help it work better. The compile step is like hiring this coach who tells the model how to improve their work. The optimizer='adam' is this coach who knows the fastest and smartest way to fix mistakes. The loss is like a scoreboard that shows how many errors the builders make when guessing the right output (in this case, the digit). And metrics=['accuracy'] is what the coach uses to keep track of how often the builders guess correctly. So, compiling the model sets up the rules and tools your LEGO team needs to practice and get better at their job"
      ],
      "metadata": {
        "id": "eiHqzam5jKM4"
      }
    },
    {
      "cell_type": "code",
      "source": [
        "model.compile(\n",
        "    optimizer='adam',                   # How the model updates itself based on data\n",
        "    loss='sparse_categorical_crossentropy',  # How to measure mistakes (loss function)\n",
        "    metrics=['accuracy']                # What we want to keep track of while training\n",
        ")\n"
      ],
      "metadata": {
        "id": "gSvYG8w1jIbs"
      },
      "execution_count": 13,
      "outputs": []
    },
    {
      "cell_type": "code",
      "source": [
        "x_train = x_train.reshape(-1, 28*28)\n",
        "x_test = x_test.reshape(-1, 28*28)\n"
      ],
      "metadata": {
        "id": "cZFsXyGxjoTG"
      },
      "execution_count": 14,
      "outputs": []
    },
    {
      "cell_type": "markdown",
      "source": [
        "8."
      ],
      "metadata": {
        "id": "F33EKf2rjrho"
      }
    },
    {
      "cell_type": "code",
      "source": [
        "model.fit(x_train, y_train, epochs=5)"
      ],
      "metadata": {
        "colab": {
          "base_uri": "https://localhost:8080/"
        },
        "id": "jJsLcY1Tjr-0",
        "outputId": "248164a7-5504-4c48-aacb-51a16517c93d"
      },
      "execution_count": 15,
      "outputs": [
        {
          "output_type": "stream",
          "name": "stdout",
          "text": [
            "Epoch 1/5\n",
            "\u001b[1m1875/1875\u001b[0m \u001b[32m━━━━━━━━━━━━━━━━━━━━\u001b[0m\u001b[37m\u001b[0m \u001b[1m13s\u001b[0m 6ms/step - accuracy: 0.8826 - loss: 0.4203\n",
            "Epoch 2/5\n",
            "\u001b[1m1875/1875\u001b[0m \u001b[32m━━━━━━━━━━━━━━━━━━━━\u001b[0m\u001b[37m\u001b[0m \u001b[1m13s\u001b[0m 7ms/step - accuracy: 0.9639 - loss: 0.1228\n",
            "Epoch 3/5\n",
            "\u001b[1m1875/1875\u001b[0m \u001b[32m━━━━━━━━━━━━━━━━━━━━\u001b[0m\u001b[37m\u001b[0m \u001b[1m12s\u001b[0m 7ms/step - accuracy: 0.9761 - loss: 0.0804\n",
            "Epoch 4/5\n",
            "\u001b[1m1875/1875\u001b[0m \u001b[32m━━━━━━━━━━━━━━━━━━━━\u001b[0m\u001b[37m\u001b[0m \u001b[1m20s\u001b[0m 7ms/step - accuracy: 0.9830 - loss: 0.0568\n",
            "Epoch 5/5\n",
            "\u001b[1m1875/1875\u001b[0m \u001b[32m━━━━━━━━━━━━━━━━━━━━\u001b[0m\u001b[37m\u001b[0m \u001b[1m13s\u001b[0m 7ms/step - accuracy: 0.9866 - loss: 0.0446\n"
          ]
        },
        {
          "output_type": "execute_result",
          "data": {
            "text/plain": [
              "<keras.src.callbacks.history.History at 0x7baa892e2050>"
            ]
          },
          "metadata": {},
          "execution_count": 15
        }
      ]
    },
    {
      "cell_type": "markdown",
      "source": [
        "9.Evaluation of the model"
      ],
      "metadata": {
        "id": "qkPmaZLFke7M"
      }
    },
    {
      "cell_type": "code",
      "source": [
        "test_loss, test_acc = model.evaluate(x_test, y_test)\n",
        "print(f\"Test Accuracy: {test_acc}\")\n"
      ],
      "metadata": {
        "colab": {
          "base_uri": "https://localhost:8080/"
        },
        "id": "6hlRmpeKkgzK",
        "outputId": "25a66d26-7ae2-4a2f-fa57-ae31ec79acb5"
      },
      "execution_count": 16,
      "outputs": [
        {
          "output_type": "stream",
          "name": "stdout",
          "text": [
            "\u001b[1m313/313\u001b[0m \u001b[32m━━━━━━━━━━━━━━━━━━━━\u001b[0m\u001b[37m\u001b[0m \u001b[1m2s\u001b[0m 4ms/step - accuracy: 0.9736 - loss: 0.0885\n",
            "Test Accuracy: 0.9775999784469604\n"
          ]
        }
      ]
    },
    {
      "cell_type": "markdown",
      "source": [
        "The model is predicting with 98 percent accuracy"
      ],
      "metadata": {
        "id": "eqlu_fuUkmFf"
      }
    },
    {
      "cell_type": "markdown",
      "source": [
        "10. VALIDATION/PREDICTION"
      ],
      "metadata": {
        "id": "ayzyRx0Fk6z9"
      }
    },
    {
      "cell_type": "code",
      "source": [
        "predictions = model.predict(x_test)\n",
        "import numpy as np\n",
        "\n",
        "predicted_label = np.argmax(predictions[109])  # For the first test image\n",
        "print(\"Model Prediction:\", predicted_label)\n",
        "print(\"Actual Label:\", y_test[109])"
      ],
      "metadata": {
        "colab": {
          "base_uri": "https://localhost:8080/"
        },
        "id": "OEhXZOT7lSTX",
        "outputId": "839647f0-3400-4e2b-c1e4-6a332f580e58"
      },
      "execution_count": 18,
      "outputs": [
        {
          "output_type": "stream",
          "name": "stdout",
          "text": [
            "\u001b[1m313/313\u001b[0m \u001b[32m━━━━━━━━━━━━━━━━━━━━\u001b[0m\u001b[37m\u001b[0m \u001b[1m1s\u001b[0m 2ms/step\n",
            "Model Prediction: 4\n",
            "Actual Label: 4\n"
          ]
        }
      ]
    },
    {
      "cell_type": "markdown",
      "source": [
        "This means that we have asked the model to try to understand the 4th digit in this data set and it has made accurate prediction. We will plot the result first and then will ask it to recognise first 5 digits in the next step"
      ],
      "metadata": {
        "id": "uHP6LGgflXRx"
      }
    },
    {
      "cell_type": "code",
      "source": [
        "import matplotlib.pyplot as plt\n",
        "\n",
        "# Reshape the flattened image back to 28x28 for viewing\n",
        "plt.imshow(x_test[109].reshape(28, 28), cmap='gray')\n",
        "plt.title(f\"Model Prediction: {predicted_label} | Actual Label: {y_test[109]}\")\n",
        "plt.axis('off')\n",
        "plt.show()\n"
      ],
      "metadata": {
        "colab": {
          "base_uri": "https://localhost:8080/",
          "height": 428
        },
        "id": "orF5nuq3llSN",
        "outputId": "0a1eaa24-57d3-41ba-99b6-5bc189db28e9"
      },
      "execution_count": 19,
      "outputs": [
        {
          "output_type": "display_data",
          "data": {
            "text/plain": [
              "<Figure size 640x480 with 1 Axes>"
            ],
            "image/png": "[encoded data removed]"
          },
          "metadata": {}
        }
      ]
    },
    {
      "cell_type": "code",
      "source": [
        "for i in range(5):  # Try first 5 images\n",
        "    plt.imshow(x_test[i].reshape(28, 28), cmap='gray')\n",
        "    plt.title(f\"Model Prediction: {np.argmax(predictions[i])} | Actual Label: {y_test[i]}\")\n",
        "    plt.axis('off')\n",
        "    plt.show()\n"
      ],
      "metadata": {
        "colab": {
          "base_uri": "https://localhost:8080/",
          "height": 1000
        },
        "id": "bO-nx1fBl0fi",
        "outputId": "2d14fe9c-ea08-46a7-f77d-1215e2d2fa27"
      },
      "execution_count": 20,
      "outputs": [
        {
          "output_type": "display_data",
          "data": {
            "text/plain": [
              "<Figure size 640x480 with 1 Axes>"
            ],
            "image/png": "[encoded data removed]"
          },
          "metadata": {}
        },
        {
          "output_type": "display_data",
          "data": {
            "text/plain": [
              "<Figure size 640x480 with 1 Axes>"
            ],
            "image/png": "[encoded data removed]"
          },
          "metadata": {}
        },
        {
          "output_type": "display_data",
          "data": {
            "text/plain": [
              "<Figure size 640x480 with 1 Axes>"
            ],
            "image/png": "[encoded data removed]"
          },
          "metadata": {}
        },
        {
          "output_type": "display_data",
          "data": {
            "text/plain": [
              "<Figure size 640x480 with 1 Axes>"
            ],
            "image/png": "[encoded data removed]"
          },
          "metadata": {}
        },
        {
          "output_type": "display_data",
          "data": {
            "text/plain": [
              "<Figure size 640x480 with 1 Axes>"
            ],
            "image/png": "[encoded data removed]"
          },
          "metadata": {}
        }
      ]
    }
  ]
}